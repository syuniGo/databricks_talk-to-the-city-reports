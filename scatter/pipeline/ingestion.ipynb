{
 "cells": [
  {
   "cell_type": "code",
   "execution_count": 0,
   "metadata": {
    "application/vnd.databricks.v1+cell": {
     "cellMetadata": {
      "byteLimit": 2048000,
      "rowLimit": 10000
     },
     "inputWidgets": {},
     "nuid": "a3009e54-e884-43f5-8f56-2f73dd001430",
     "showTitle": false,
     "tableResultSettingsMap": {},
     "title": ""
    }
   },
   "outputs": [],
   "source": [
    "config_vars = {\n",
    "    \"store_path\": \"/Workspace/Users/junweiwu.me@gmail.com/databricks_talk-to-the-city-reports/scatter/pipeline/inputs\",\n",
    "    \"news_url\": \"https://news.yahoo.co.jp/articles/425744badd8aafa1db8dbb047d09f59b4360c968/comments\"\n",
    "}"
   ]
  },
  {
   "cell_type": "code",
   "execution_count": 0,
   "metadata": {
    "application/vnd.databricks.v1+cell": {
     "cellMetadata": {
      "byteLimit": 2048000,
      "rowLimit": 10000
     },
     "inputWidgets": {},
     "nuid": "a2e0e794-0649-4c8d-a4fc-0f90b4ce2f69",
     "showTitle": false,
     "tableResultSettingsMap": {},
     "title": ""
    }
   },
   "outputs": [],
   "source": [
    "import os\n",
    "for key, value in config_vars.items():\n",
    "    dbutils.widgets.text(key, value)\n",
    "    os.environ[key] = value"
   ]
  },
  {
   "cell_type": "code",
   "execution_count": 0,
   "metadata": {
    "application/vnd.databricks.v1+cell": {
     "cellMetadata": {},
     "inputWidgets": {},
     "nuid": "eadbd4e9-d8d2-4a63-9b68-2a47e83a6554",
     "showTitle": false,
     "tableResultSettingsMap": {},
     "title": ""
    }
   },
   "outputs": [],
   "source": []
  },
  {
   "cell_type": "code",
   "execution_count": 0,
   "metadata": {
    "application/vnd.databricks.v1+cell": {
     "cellMetadata": {
      "byteLimit": 2048000,
      "rowLimit": 10000
     },
     "inputWidgets": {},
     "nuid": "1d1e5ce6-21ac-4621-876f-54a781a21056",
     "showTitle": false,
     "tableResultSettingsMap": {},
     "title": ""
    }
   },
   "outputs": [],
   "source": [
    "# import requests\n",
    "# from bs4 import BeautifulSoup\n",
    "# import time\n",
    "# import pandas as pd\n",
    "\n",
    "# def fetch_yahoo_comments(base_url):\n",
    "#     all_comments = []\n",
    "#     page = 1\n",
    "    \n",
    "#     while True:\n",
    "#         try:\n",
    "#             url = f\"{base_url}?page={page}\"\n",
    "#             print(f\"Fetching page {page}...\")\n",
    "\n",
    "#             r = requests.get(url)\n",
    "#             r.encoding = r.apparent_encoding\n",
    "            \n",
    "#             soup = BeautifulSoup(r.text, \"html.parser\")\n",
    "\n",
    "#             comments = soup.find_all('p', class_='sc-169yn8p-10 hYFULX')\n",
    "#             ids = soup.find_all('a', class_=\"sc-169yn8p-7 cJjfcA\")\n",
    "            \n",
    "#             if not comments:\n",
    "#                 print(f\"No more comments found at page {page}\")\n",
    "#                 break\n",
    " \n",
    "#             for comment, id_elem in zip(comments, ids):\n",
    "#                 comment_id = id_elem.get('data-comment-id', '')  \n",
    "#                 comment_text = comment.text.strip()\n",
    "#                 all_comments.append({\n",
    "#                     'comment-id': comment_id,\n",
    "#                     'comment-body': comment_text\n",
    "#                 })\n",
    "            \n",
    "#             print(f\"Found {len(comments)} comments on page {page}\")\n",
    "            \n",
    "#             time.sleep(1)\n",
    "#             page += 1\n",
    "            \n",
    "#         except Exception as e:\n",
    "#             print(f\"Error occurred on page {page}: {str(e)}\")\n",
    "#             break\n",
    "\n",
    "#     df = pd.DataFrame(all_comments)\n",
    "#     print(f\"Total comments collected: {len(df)}\")\n",
    "#     return df\n"
   ]
  },
  {
   "cell_type": "code",
   "execution_count": 0,
   "metadata": {
    "application/vnd.databricks.v1+cell": {
     "cellMetadata": {
      "byteLimit": 2048000,
      "rowLimit": 10000
     },
     "inputWidgets": {},
     "nuid": "6a3389cb-9f02-419e-a3de-aa25335ee12f",
     "showTitle": false,
     "tableResultSettingsMap": {},
     "title": ""
    }
   },
   "outputs": [],
   "source": [
    "# import os\n",
    "# store_path = os.getenv(\"store_path\")\n",
    "# news_url = os.getenv(\"news_url\")\n",
    "\n",
    "# comments_df = fetch_yahoo_comments(news_url)\n",
    "\n",
    "# comments_df.to_csv(f'{store_path}/yahoo-news-comment.csv', index=False)"
   ]
  },
  {
   "cell_type": "code",
   "execution_count": 0,
   "metadata": {
    "application/vnd.databricks.v1+cell": {
     "cellMetadata": {
      "byteLimit": 2048000,
      "rowLimit": 10000
     },
     "inputWidgets": {},
     "nuid": "a940d3d6-4bb6-4fa4-b6b3-1425bd3a4e29",
     "showTitle": false,
     "tableResultSettingsMap": {},
     "title": ""
    }
   },
   "outputs": [],
   "source": [
    "import os\n",
    "store_path = os.getenv(\"store_path\")\n",
    "news_url = os.getenv(\"news_url\")"
   ]
  },
  {
   "cell_type": "code",
   "execution_count": 0,
   "metadata": {
    "application/vnd.databricks.v1+cell": {
     "cellMetadata": {
      "byteLimit": 2048000,
      "rowLimit": 10000
     },
     "inputWidgets": {},
     "nuid": "c4bf81df-25af-4336-ae9e-687dacf9926f",
     "showTitle": false,
     "tableResultSettingsMap": {},
     "title": ""
    }
   },
   "outputs": [],
   "source": [
    "import requests\n",
    "from bs4 import BeautifulSoup\n",
    "import time\n",
    "import pandas as pd\n",
    "import concurrent.futures\n",
    "from typing import List, Dict\n",
    "from threading import Event\n",
    "\n",
    "def fetch_page(url: str, page: int, stop_event: Event) -> List[Dict]:\n",
    "    try:\n",
    "        if stop_event.is_set():\n",
    "            return []\n",
    "            \n",
    "        page_url = f\"{url}?page={page}\"\n",
    "        print(f\"Fetching page {page}...\")\n",
    "        \n",
    "        r = requests.get(page_url)\n",
    "        r.encoding = r.apparent_encoding\n",
    "        \n",
    "        soup = BeautifulSoup(r.text, \"html.parser\")\n",
    "        \n",
    "        comments = soup.find_all('p', class_='sc-169yn8p-10 hYFULX')\n",
    "        ids = soup.find_all('a', class_=\"sc-169yn8p-7 gibKWW\")\n",
    "        \n",
    "        if not comments:\n",
    "            print(f\"No comments found on page {page}\")\n",
    "            return []\n",
    "        \n",
    "        page_comments = []\n",
    "        for comment, id_elem in zip(comments, ids):\n",
    "            comment_id = id_elem.get('data-comment-id', f'p{page}_{len(page_comments)}')\n",
    "            comment_text = comment.text.strip()\n",
    "            page_comments.append({\n",
    "                'comment-id': comment_id,\n",
    "                'comment-body': comment_text\n",
    "            })\n",
    "            \n",
    "        print(f\"Found {len(page_comments)} comments on page {page}\")\n",
    "        time.sleep(1)  \n",
    "        return page_comments\n",
    "        \n",
    "    except Exception as e:\n",
    "        print(f\"Error on page {page}: {str(e)}\")\n",
    "        return []\n",
    "\n",
    "def fetch_yahoo_comments(base_url: str, max_workers: int = 4) -> pd.DataFrame:\n",
    "    all_comments = []\n",
    "    page = 1\n",
    "    consecutive_empty_pages = 0\n",
    "    max_empty_pages = 3  \n",
    "    stop_event = Event()\n",
    "    \n",
    "    with concurrent.futures.ThreadPoolExecutor(max_workers=max_workers) as executor:\n",
    "        futures = []\n",
    "        \n",
    "        for _ in range(max_workers):\n",
    "            if consecutive_empty_pages < max_empty_pages:\n",
    "                futures.append(executor.submit(fetch_page, base_url, page, stop_event))\n",
    "                page += 1\n",
    "        \n",
    "        while futures and not stop_event.is_set():\n",
    "            done, futures = concurrent.futures.wait(\n",
    "                futures, \n",
    "                return_when=concurrent.futures.FIRST_COMPLETED\n",
    "            )\n",
    "            \n",
    "            for future in done:\n",
    "                page_comments = future.result()\n",
    "                \n",
    "                if page_comments:\n",
    "                    all_comments.extend(page_comments)\n",
    "                    consecutive_empty_pages = 0\n",
    "                else:\n",
    "                    consecutive_empty_pages += 1\n",
    "                    print(f\"Empty pages count: {consecutive_empty_pages}\")\n",
    "                    \n",
    "                if consecutive_empty_pages >= max_empty_pages:\n",
    "                    print(\"Reached maximum consecutive empty pages, stopping...\")\n",
    "                    stop_event.set()\n",
    "                    break\n",
    "                    \n",
    "            if not stop_event.is_set():\n",
    "                for _ in range(len(done)):\n",
    "                    futures.add(executor.submit(fetch_page, base_url, page, stop_event))\n",
    "                    page += 1\n",
    "\n",
    "    df = pd.DataFrame(all_comments)\n",
    "    print(f\"Total comments collected: {len(df)}\")\n",
    "    df = df.sort_values('comment-id')\n",
    "    df['comment-id'] = range(1, len(df) + 1)\n",
    "    return df\n",
    "\n",
    "if __name__ == \"__main__\":\n",
    "    df = fetch_yahoo_comments(news_url, max_workers=4)\n",
    "    df.to_csv(f\"{store_path}/yahoo-news-comment.csv\", index=False, encoding='utf-8')"
   ]
  },
  {
   "cell_type": "code",
   "execution_count": 0,
   "metadata": {
    "application/vnd.databricks.v1+cell": {
     "cellMetadata": {
      "byteLimit": 2048000,
      "rowLimit": 10000
     },
     "inputWidgets": {},
     "nuid": "97a7826c-778f-43ab-8003-a20df4202bd0",
     "showTitle": false,
     "tableResultSettingsMap": {},
     "title": ""
    }
   },
   "outputs": [],
   "source": [
    "df.head(10)"
   ]
  }
 ],
 "metadata": {
  "application/vnd.databricks.v1+notebook": {
   "computePreferences": null,
   "dashboards": [],
   "environmentMetadata": {
    "base_environment": "",
    "environment_version": "2"
   },
   "language": "python",
   "notebookMetadata": {
    "pythonIndentUnit": 4
   },
   "notebookName": "ingestion",
   "widgets": {
    "credential": {
     "currentValue": "74893a5bd53d4bdbabe555d5bd3bb544",
     "nuid": "3656811f-1762-4411-9959-7ec171b731f4",
     "typedWidgetInfo": {
      "autoCreated": false,
      "defaultValue": "74893a5bd53d4bdbabe555d5bd3bb544",
      "label": null,
      "name": "credential",
      "options": {
       "widgetDisplayType": "Text",
       "validationRegex": null
      },
      "parameterDataType": "String"
     },
     "widgetInfo": {
      "widgetType": "text",
      "defaultValue": "74893a5bd53d4bdbabe555d5bd3bb544",
      "label": null,
      "name": "credential",
      "options": {
       "widgetType": "text",
       "autoCreated": null,
       "validationRegex": null
      }
     }
    },
    "endpoint": {
     "currentValue": "https://lakehouseaais00666484449.openai.azure.com",
     "nuid": "d2e7e553-9214-4472-8af6-ee3b427e7ab6",
     "typedWidgetInfo": {
      "autoCreated": false,
      "defaultValue": "https://lakehouseaais00666484449.openai.azure.com",
      "label": null,
      "name": "endpoint",
      "options": {
       "widgetDisplayType": "Text",
       "validationRegex": null
      },
      "parameterDataType": "String"
     },
     "widgetInfo": {
      "widgetType": "text",
      "defaultValue": "https://lakehouseaais00666484449.openai.azure.com",
      "label": null,
      "name": "endpoint",
      "options": {
       "widgetType": "text",
       "autoCreated": null,
       "validationRegex": null
      }
     }
    },
    "news_url": {
     "currentValue": "https://news.yahoo.co.jp/articles/425744badd8aafa1db8dbb047d09f59b4360c968/comments",
     "nuid": "d37a3cdd-c79c-4664-a39e-604876f38d0c",
     "typedWidgetInfo": {
      "autoCreated": false,
      "defaultValue": "https://news.yahoo.co.jp/articles/425744badd8aafa1db8dbb047d09f59b4360c968/comments",
      "label": null,
      "name": "news_url",
      "options": {
       "widgetDisplayType": "Text",
       "validationRegex": null
      },
      "parameterDataType": "String"
     },
     "widgetInfo": {
      "widgetType": "text",
      "defaultValue": "https://news.yahoo.co.jp/articles/425744badd8aafa1db8dbb047d09f59b4360c968/comments",
      "label": null,
      "name": "news_url",
      "options": {
       "widgetType": "text",
       "autoCreated": null,
       "validationRegex": null
      }
     }
    },
    "store_path": {
     "currentValue": "/Workspace/Users/junweiwu.me@gmail.com/databricks_talk-to-the-city-reports/scatter/pipeline/inputs",
     "nuid": "9a97117a-23fd-45d4-ae82-9970ba2e62e1",
     "typedWidgetInfo": {
      "autoCreated": false,
      "defaultValue": "/Workspace/Users/junweiwu.me@gmail.com/databricks_talk-to-the-city-reports/scatter/pipeline/inputs",
      "label": null,
      "name": "store_path",
      "options": {
       "widgetDisplayType": "Text",
       "validationRegex": null
      },
      "parameterDataType": "String"
     },
     "widgetInfo": {
      "widgetType": "text",
      "defaultValue": "/Workspace/Users/junweiwu.me@gmail.com/databricks_talk-to-the-city-reports/scatter/pipeline/inputs",
      "label": null,
      "name": "store_path",
      "options": {
       "widgetType": "text",
       "autoCreated": null,
       "validationRegex": null
      }
     }
    }
   }
  },
  "language_info": {
   "name": "python"
  }
 },
 "nbformat": 4,
 "nbformat_minor": 0
}
