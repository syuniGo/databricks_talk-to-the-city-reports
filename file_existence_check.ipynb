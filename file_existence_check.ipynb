{
 "cells": [
  {
   "cell_type": "code",
   "execution_count": 0,
   "metadata": {
    "application/vnd.databricks.v1+cell": {
     "cellMetadata": {},
     "inputWidgets": {},
     "nuid": "b3257013-204f-4e12-b6fd-ea1b4a4d334a",
     "showTitle": false,
     "tableResultSettingsMap": {},
     "title": ""
    }
   },
   "outputs": [],
   "source": [
    "data_path = dbutils.widgets.get(\"file_path\")\n",
    "result_path = dbutils.widgets.get(\"result_path\")"
   ]
  },
  {
   "cell_type": "code",
   "execution_count": 0,
   "metadata": {
    "application/vnd.databricks.v1+cell": {
     "cellMetadata": {},
     "inputWidgets": {},
     "nuid": "41123e3b-da87-414e-9e81-4b2a64b1b3be",
     "showTitle": false,
     "tableResultSettingsMap": {},
     "title": ""
    }
   },
   "outputs": [],
   "source": [
    "def check_file_exists(path):\n",
    "    try:\n",
    "        return len(dbutils.fs.ls(path)) > 0\n",
    "    except Exception as e:\n",
    "        print(f\"Error checking file {path}: {str(e)}\")\n",
    "        return False"
   ]
  },
  {
   "cell_type": "code",
   "execution_count": 0,
   "metadata": {
    "application/vnd.databricks.v1+cell": {
     "cellMetadata": {},
     "inputWidgets": {},
     "nuid": "18c39bba-6335-4e48-9e65-91d2299dc834",
     "showTitle": false,
     "tableResultSettingsMap": {},
     "title": ""
    }
   },
   "outputs": [],
   "source": [
    "data_exists = check_file_exists(data_path)\n",
    "result_exists = check_file_exists(result_path)"
   ]
  },
  {
   "cell_type": "code",
   "execution_count": 0,
   "metadata": {
    "application/vnd.databricks.v1+cell": {
     "cellMetadata": {},
     "inputWidgets": {},
     "nuid": "13c40481-1cd1-4af6-a784-e3562dc14d4d",
     "showTitle": false,
     "tableResultSettingsMap": {},
     "title": ""
    }
   },
   "outputs": [],
   "source": [
    "\n",
    "if result_exists:\n",
    "    status = \"READY_TO_DEPLOY\"    \n",
    "elif data_exists:\n",
    "    status = \"SKIP_INGESTION\"         \n",
    "else:\n",
    "    status = \"INGESTION\"  \n",
    "\n",
    "result = {\n",
    "    \"status\": status\n",
    "}\n",
    "dbutils.notebook.exit(json.dumps(result))"
   ]
  }
 ],
 "metadata": {
  "application/vnd.databricks.v1+notebook": {
   "computePreferences": null,
   "dashboards": [],
   "environmentMetadata": {
    "base_environment": "",
    "environment_version": "2"
   },
   "language": "python",
   "notebookMetadata": {
    "pythonIndentUnit": 4
   },
   "notebookName": "file_existence_check",
   "widgets": {}
  },
  "language_info": {
   "name": "python"
  }
 },
 "nbformat": 4,
 "nbformat_minor": 0
}
